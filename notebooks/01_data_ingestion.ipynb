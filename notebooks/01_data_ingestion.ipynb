{
 "cells": [
  {
   "cell_type": "code",
   "execution_count": null,
   "id": "fe99b15c",
   "metadata": {},
   "outputs": [],
   "source": [
    "import sys\n",
    "sys.path.append(\"../src\") # add the script and src directory to the path\n",
    "sys.path.append(\"../script\") # add the scraping directory to the path\n",
    "from scraping.telegram_scraper import TelegramScraper\n",
    "from utils.config import TELEGRAM_CONFIG\n",
    "\n",
    "import nest_asyncio\n",
    "\n",
    "# Required for Jupyter\n",
    "nest_asyncio.apply()\n",
    "\n",
    "# Initialize scraper\n",
    "scraper = TelegramScraper(\n",
    "    session_name=TELEGRAM_CONFIG['session_name'],\n",
    "    api_id=int(TELEGRAM_CONFIG['api_id']),\n",
    "    api_hash=TELEGRAM_CONFIG['api_hash']\n",
    ")\n",
    "\n",
    "# Channels to scrape\n",
    "channels = [\n",
    "    '@Shageronlinestore',\n",
    "    # Add more public channels here\n",
    "]\n",
    "\n",
    "# Run the scraper\n",
    "await scraper.run(channels)\n",
    "\n",
    "print(\"Scraping completed! Check telegram_data.csv\")"
   ]
  }
 ],
 "metadata": {
  "kernelspec": {
   "display_name": "week4",
   "language": "python",
   "name": "python3"
  },
  "language_info": {
   "codemirror_mode": {
    "name": "ipython",
    "version": 3
   },
   "file_extension": ".py",
   "mimetype": "text/x-python",
   "name": "python",
   "nbconvert_exporter": "python",
   "pygments_lexer": "ipython3",
   "version": "3.13.2"
  }
 },
 "nbformat": 4,
 "nbformat_minor": 5
}
