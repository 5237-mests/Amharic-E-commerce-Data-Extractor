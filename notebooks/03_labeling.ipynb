{
 "cells": [
  {
   "cell_type": "code",
   "execution_count": 1,
   "id": "68e06fec",
   "metadata": {},
   "outputs": [
    {
     "name": "stdout",
     "output_type": "stream",
     "text": [
      "7\n"
     ]
    }
   ],
   "source": [
    "print(7)"
   ]
  },
  {
   "cell_type": "code",
   "execution_count": 5,
   "id": "94114e4d",
   "metadata": {},
   "outputs": [],
   "source": [
    "import pandas as pd\n",
    "\n",
    "df = pd.read_csv('../data/processed/telegram_data_cleaned.csv')\n",
    "sampled = df[['Cleaned Text']].dropna().sample(n=70, random_state=42)  # adjust n as needed\n",
    "sampled.to_csv('../data/labeled/sample_for_labeling.csv', index=False)"
   ]
  },
  {
   "cell_type": "code",
   "execution_count": 8,
   "id": "6c5b8a0b",
   "metadata": {},
   "outputs": [
    {
     "data": {
      "text/html": [
       "<div>\n",
       "<style scoped>\n",
       "    .dataframe tbody tr th:only-of-type {\n",
       "        vertical-align: middle;\n",
       "    }\n",
       "\n",
       "    .dataframe tbody tr th {\n",
       "        vertical-align: top;\n",
       "    }\n",
       "\n",
       "    .dataframe thead th {\n",
       "        text-align: right;\n",
       "    }\n",
       "</style>\n",
       "<table border=\"1\" class=\"dataframe\">\n",
       "  <thead>\n",
       "    <tr style=\"text-align: right;\">\n",
       "      <th></th>\n",
       "      <th>Cleaned Text</th>\n",
       "    </tr>\n",
       "  </thead>\n",
       "  <tbody>\n",
       "    <tr>\n",
       "      <th>3683</th>\n",
       "      <td>ለፀጉሮ ውበት እና ለፀጉሮዎ ልስላሴ ሰን ሲልክ የፀጉር ሻምፖ ለማዘዝ 09...</td>\n",
       "    </tr>\n",
       "    <tr>\n",
       "      <th>4411</th>\n",
       "      <td>ዘናጭ የሴቶች ፈራማ የትከሻ ቦርሳ ለማዘዝ 0974312223 ይደውሉ ወይም...</td>\n",
       "    </tr>\n",
       "    <tr>\n",
       "      <th>2584</th>\n",
       "      <td>Skechers OD vaporfoam Size 40,41,42,43 Price 3...</td>\n",
       "    </tr>\n",
       "    <tr>\n",
       "      <th>69</th>\n",
       "      <td>Portable menstural heating pad በወር አበባ ወቅት ለሚመ...</td>\n",
       "    </tr>\n",
       "    <tr>\n",
       "      <th>1844</th>\n",
       "      <td>የልጆች ደህንነት መጠበቀያ safty እቃዎች በተለያዩ አማራጭ የሚሸምቱበት...</td>\n",
       "    </tr>\n",
       "    <tr>\n",
       "      <th>33</th>\n",
       "      <td>360 rotating cake turntable Size28cm cakedecor...</td>\n",
       "    </tr>\n",
       "    <tr>\n",
       "      <th>3085</th>\n",
       "      <td>New simple floor clothes rack Three in one to ...</td>\n",
       "    </tr>\n",
       "    <tr>\n",
       "      <th>4034</th>\n",
       "      <td>በዓለምነህ ረጋሳ ተፅፎ በ114 ገፅዎች የቀረበ የግጥም መድብል ለማዘዝ 0...</td>\n",
       "    </tr>\n",
       "    <tr>\n",
       "      <th>4469</th>\n",
       "      <td>ቤትዎን በጥሩ መዓዛ የሚያውድ የሽቶዎች ዕጣን ለማዘዝ 0974312223 ይ...</td>\n",
       "    </tr>\n",
       "    <tr>\n",
       "      <th>4578</th>\n",
       "      <td>መልካም ገና የቤት እቃዎት ፅድት የሚያደርጉበት ፈሳሽ ሳሙና ለማዘዝ 842...</td>\n",
       "    </tr>\n",
       "  </tbody>\n",
       "</table>\n",
       "</div>"
      ],
      "text/plain": [
       "                                           Cleaned Text\n",
       "3683  ለፀጉሮ ውበት እና ለፀጉሮዎ ልስላሴ ሰን ሲልክ የፀጉር ሻምፖ ለማዘዝ 09...\n",
       "4411  ዘናጭ የሴቶች ፈራማ የትከሻ ቦርሳ ለማዘዝ 0974312223 ይደውሉ ወይም...\n",
       "2584  Skechers OD vaporfoam Size 40,41,42,43 Price 3...\n",
       "69    Portable menstural heating pad በወር አበባ ወቅት ለሚመ...\n",
       "1844  የልጆች ደህንነት መጠበቀያ safty እቃዎች በተለያዩ አማራጭ የሚሸምቱበት...\n",
       "33    360 rotating cake turntable Size28cm cakedecor...\n",
       "3085  New simple floor clothes rack Three in one to ...\n",
       "4034  በዓለምነህ ረጋሳ ተፅፎ በ114 ገፅዎች የቀረበ የግጥም መድብል ለማዘዝ 0...\n",
       "4469  ቤትዎን በጥሩ መዓዛ የሚያውድ የሽቶዎች ዕጣን ለማዘዝ 0974312223 ይ...\n",
       "4578  መልካም ገና የቤት እቃዎት ፅድት የሚያደርጉበት ፈሳሽ ሳሙና ለማዘዝ 842..."
      ]
     },
     "execution_count": 8,
     "metadata": {},
     "output_type": "execute_result"
    }
   ],
   "source": [
    "sampled.head(10)  # Display the first 10 rows of the sampled DataFrame"
   ]
  }
 ],
 "metadata": {
  "kernelspec": {
   "display_name": "week4",
   "language": "python",
   "name": "python3"
  },
  "language_info": {
   "codemirror_mode": {
    "name": "ipython",
    "version": 3
   },
   "file_extension": ".py",
   "mimetype": "text/x-python",
   "name": "python",
   "nbconvert_exporter": "python",
   "pygments_lexer": "ipython3",
   "version": "3.13.2"
  }
 },
 "nbformat": 4,
 "nbformat_minor": 5
}
