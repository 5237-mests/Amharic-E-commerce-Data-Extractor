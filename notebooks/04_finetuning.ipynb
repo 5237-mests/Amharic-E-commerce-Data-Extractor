{
 "cells": [
  {
   "cell_type": "code",
   "execution_count": null,
   "id": "40d4dba9",
   "metadata": {},
   "outputs": [],
   "source": [
    "import sys\n",
    "sys.path.append(\"../src\")\n",
    "from datasets import Dataset\n",
    "from ner.load_conll import read_conll_file\n",
    "from ner.tokenize_align import tokenize_and_align_labels\n",
    "from ner.model_setup import load_model_and_tokenizer\n",
    "from ner.trainer_setup import setup_trainer"
   ]
  },
  {
   "cell_type": "code",
   "execution_count": 4,
   "id": "cd419401",
   "metadata": {},
   "outputs": [],
   "source": [
    "# Load data\n",
    "sentences, tags = read_conll_file(\"../data/labeled/ner_data.conll\")\n",
    "data = {\"tokens\": sentences, \"ner_tags\": tags}\n",
    "dataset = Dataset.from_dict(data).train_test_split(test_size=0.2)"
   ]
  },
  {
   "cell_type": "code",
   "execution_count": 6,
   "id": "1d1e0efc",
   "metadata": {},
   "outputs": [],
   "source": [
    "# Prepare labels\n",
    "unique_tags = sorted(set(tag for seq in tags for tag in seq))\n",
    "label_to_id = {tag: i for i, tag in enumerate(unique_tags)}\n",
    "id_to_label = {i: tag for tag, i in label_to_id.items()}"
   ]
  },
  {
   "cell_type": "code",
   "execution_count": null,
   "id": "206d6375",
   "metadata": {},
   "outputs": [],
   "source": [
    "# Load model\n",
    "model_name = \"xlm-roberta-base\"\n",
    "tokenizer, model = load_model_and_tokenizer(model_name, num_labels=len(unique_tags))"
   ]
  },
  {
   "cell_type": "code",
   "execution_count": null,
   "id": "53965bdf",
   "metadata": {},
   "outputs": [],
   "source": [
    "\n",
    "# Tokenize\n",
    "tokenized_dataset = dataset.map(lambda x: tokenize_and_align_labels(x, tokenizer, label_to_id), batched=True)"
   ]
  },
  {
   "cell_type": "code",
   "execution_count": null,
   "id": "eb223093",
   "metadata": {},
   "outputs": [],
   "source": [
    "# Train\n",
    "trainer = setup_trainer(model, tokenizer, tokenized_dataset)\n",
    "trainer.train()"
   ]
  },
  {
   "cell_type": "code",
   "execution_count": null,
   "metadata": {},
   "outputs": [],
   "source": [
    "# Save\n",
    "trainer.save_model(\"models/xlm-roberta-ner\")\n",
    "tokenizer.save_pretrained(\"models/xlm-roberta-ner\")"
   ]
  }
 ],
 "metadata": {
  "kernelspec": {
   "display_name": "week4",
   "language": "python",
   "name": "python3"
  },
  "language_info": {
   "codemirror_mode": {
    "name": "ipython",
    "version": 3
   },
   "file_extension": ".py",
   "mimetype": "text/x-python",
   "name": "python",
   "nbconvert_exporter": "python",
   "pygments_lexer": "ipython3",
   "version": "3.13.2"
  }
 },
 "nbformat": 4,
 "nbformat_minor": 5
}
